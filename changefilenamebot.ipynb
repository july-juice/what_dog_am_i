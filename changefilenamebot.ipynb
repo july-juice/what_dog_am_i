{
 "cells": [
  {
   "cell_type": "code",
   "execution_count": null,
   "id": "1ad037c7",
   "metadata": {},
   "outputs": [],
   "source": [
    "import os\n",
    "\n",
    "# Path to folder\n",
    "folder_path = \"customdataset/tongue\"\n",
    "\n",
    "# Choose a base name and file extension\n",
    "base_name = \"tongue\"\n",
    "extension = \".jpg\"\n",
    "\n",
    "# All files in the folder\n",
    "files = os.listdir(folder_path)\n",
    "\n",
    "# main rename loop\n",
    "for i, filename in enumerate(files, start=1):\n",
    "\n",
    "    # Get full paths\n",
    "    old_path = os.path.join(folder_path, filename)\n",
    "    \n",
    "    # Skip directories\n",
    "    if not os.path.isfile(old_path):\n",
    "        continue\n",
    "\n",
    "    # Keep OG extension\n",
    "    ext = os.path.splitext(filename)[1]\n",
    "    \n",
    "    # New file name\n",
    "    new_name = f\"{base_name}_{i}{ext}\"\n",
    "    new_path = os.path.join(folder_path, new_name)\n",
    "    \n",
    "    # Rename\n",
    "    os.rename(old_path, new_path)\n",
    "\n",
    "print(\"Files renamed successfully.\")\n"
   ]
  }
 ],
 "metadata": {
  "kernelspec": {
   "display_name": "Python 3",
   "language": "python",
   "name": "python3"
  },
  "language_info": {
   "codemirror_mode": {
    "name": "ipython",
    "version": 3
   },
   "file_extension": ".py",
   "mimetype": "text/x-python",
   "name": "python",
   "nbconvert_exporter": "python",
   "pygments_lexer": "ipython3",
   "version": "3.11.14"
  }
 },
 "nbformat": 4,
 "nbformat_minor": 5
}
