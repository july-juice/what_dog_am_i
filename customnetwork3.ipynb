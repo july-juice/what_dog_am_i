{
 "cells": [
  {
   "cell_type": "code",
   "execution_count": null,
   "id": "b2bc309e",
   "metadata": {},
   "outputs": [],
   "source": [
    "import os\n",
    "import random\n",
    "import tensorflow as tf\n",
    "from tensorflow.keras.models import Sequential\n",
    "from tensorflow.keras.layers import Conv2D, MaxPooling2D, Flatten, Dense, Dropout, Input\n",
    "from tensorflow.keras.preprocessing.image import ImageDataGenerator\n",
    "import matplotlib.pyplot as plt\n",
    "import numpy as np\n",
    "import splitfolders\n",
    "import cv2\n",
    "from tensorflow.keras.applications.resnet50 import preprocess_input\n",
    "from tensorflow.keras import layers, models\n",
    "from tensorflow.keras.optimizers import Adam\n"
   ]
  },
  {
   "cell_type": "code",
   "execution_count": null,
   "id": "26f3b3f1",
   "metadata": {},
   "outputs": [],
   "source": [
    "input_folder = 'customdataset3'\n",
    "output_folder = 'imagerecognition3'\n",
    "\n",
    "split_ratio = (0.8,0.1,0.1)\n",
    "\n",
    "splitfolders.ratio(\n",
    "\n",
    "    input_folder,\n",
    "    output=output_folder,\n",
    "    seed=500,\n",
    "    ratio = split_ratio,\n",
    "    group_prefix = None\n",
    ")"
   ]
  },
  {
   "cell_type": "code",
   "execution_count": null,
   "id": "2aab58dd",
   "metadata": {},
   "outputs": [],
   "source": [
    "img_size = (224,224)\n",
    "batch_size = 32 # Model updates weights after processing 32 images\n",
    "\n",
    "train_datagen = ImageDataGenerator(\n",
    "    preprocessing_function = preprocess_input,\n",
    "    rotation_range = 20,\n",
    "    width_shift_range = 0.2,\n",
    "    height_shift_range = 0.2,\n",
    "    shear_range = 0.2,\n",
    "    zoom_range = 0.2,\n",
    "    horizontal_flip = True,\n",
    "    fill_mode='nearest'\n",
    ")"
   ]
  },
  {
   "cell_type": "code",
   "execution_count": null,
   "id": "12f323bb",
   "metadata": {},
   "outputs": [],
   "source": [
    "# Rescale pixel values, without any extra augmentation processes for test and validation data\n",
    "\n",
    "test_datagen = ImageDataGenerator(preprocessing_function = preprocess_input)\n",
    "valid_datagen = ImageDataGenerator(preprocessing_function = preprocess_input)"
   ]
  },
  {
   "cell_type": "code",
   "execution_count": null,
   "id": "46eb2cc4",
   "metadata": {},
   "outputs": [],
   "source": [
    "train_dir = os.path.join(output_folder, 'train')\n",
    "val_dir = os.path.join(output_folder, 'val')\n",
    "test_dir = os.path.join(output_folder, 'test')\n",
    "\n",
    "train_data = train_datagen.flow_from_directory(\n",
    "    train_dir,\n",
    "    target_size = img_size,\n",
    "    batch_size = batch_size,\n",
    "    class_mode = 'categorical'\n",
    ")\n",
    "\n",
    "test_data = test_datagen.flow_from_directory(\n",
    "    test_dir,\n",
    "    target_size = img_size,\n",
    "    batch_size = batch_size,\n",
    "    class_mode = 'categorical'\n",
    ")\n",
    "\n",
    "valid_data = valid_datagen.flow_from_directory(\n",
    "    val_dir,\n",
    "    target_size = img_size,\n",
    "    batch_size = batch_size,\n",
    "    class_mode = 'categorical'\n",
    ")"
   ]
  },
  {
   "cell_type": "code",
   "execution_count": null,
   "id": "5a20402b",
   "metadata": {},
   "outputs": [],
   "source": [
    "images, labels = next(valid_data)\n",
    "idx = random.randint(0,images.shape[0]-1)\n",
    "\n",
    "plt.imshow(images[idx])\n",
    "plt.show()"
   ]
  },
  {
   "cell_type": "code",
   "execution_count": null,
   "id": "6b678fae",
   "metadata": {},
   "outputs": [],
   "source": [
    "from keras.applications.resnet import ResNet50\n",
    "base_model = ResNet50(weights='imagenet',include_top=False, input_shape=(img_size[0], img_size[1], 3))\n",
    "\n",
    "# base_model.trainable = False # Only trains newly added classification layers\n",
    "\n",
    "for layer in base_model.layers[:-30]:\n",
    "    layer.trainable = False\n",
    "for layer in base_model.layers[-30:]:\n",
    "    layer.trainable = True\n",
    "                      "
   ]
  },
  {
   "cell_type": "code",
   "execution_count": null,
   "id": "cb70aff3",
   "metadata": {},
   "outputs": [],
   "source": [
    "model = models.Sequential([\n",
    "    base_model,\n",
    "    layers.GlobalAveragePooling2D(),\n",
    "    layers.Dense(128, activation='relu'),\n",
    "    layers.Dropout(0.5),\n",
    "    layers.Dense(3, activation='softmax')\n",
    "\n",
    "\n",
    "])"
   ]
  },
  {
   "cell_type": "code",
   "execution_count": null,
   "id": "059d0df7",
   "metadata": {},
   "outputs": [],
   "source": [
    "model.compile(\n",
    "    optimizer = Adam(learning_rate=1e-5), #lower learning rate for fine tuning\n",
    "    loss = 'categorical_crossentropy',\n",
    "    metrics = ['accuracy'])"
   ]
  },
  {
   "cell_type": "code",
   "execution_count": null,
   "id": "0fd52979",
   "metadata": {},
   "outputs": [],
   "source": [
    "model.fit(train_data, epochs = 50, validation_data = valid_data)"
   ]
  },
  {
   "cell_type": "code",
   "execution_count": null,
   "id": "f9712bc0",
   "metadata": {},
   "outputs": [],
   "source": [
    "test_loss, test_accuracy = model.evaluate(test_data)\n",
    "print(f'Test Accuracy: {test_accuracy * 100:.2f}%')"
   ]
  },
  {
   "cell_type": "code",
   "execution_count": null,
   "id": "62793f99",
   "metadata": {},
   "outputs": [],
   "source": [
    "class_names = {0: 'eyesclosed',\n",
    "               1: 'scream',\n",
    "               2: 'tongue_out'\n",
    "               }"
   ]
  },
  {
   "cell_type": "code",
   "execution_count": null,
   "id": "48b18ed7",
   "metadata": {},
   "outputs": [],
   "source": [
    "def predict_img(image,model):\n",
    "    test_img=cv2.imread(image)\n",
    "    test_img=cv2.resize(test_img,(224,224))\n",
    "    test_img=np.expand_dims(test_img,axis=0)\n",
    "    result=model.predict(test_img)\n",
    "    r = np.argmax(result)\n",
    "    print(class_names[r])"
   ]
  },
  {
   "cell_type": "code",
   "execution_count": null,
   "id": "197bc92f",
   "metadata": {},
   "outputs": [],
   "source": [
    "predict_img('customdataset/tongue/tongue_2.jpeg',model)"
   ]
  },
  {
   "cell_type": "code",
   "execution_count": null,
   "id": "60d98ea1",
   "metadata": {},
   "outputs": [],
   "source": [
    "model.save('CustomNetworkv3.keras')"
   ]
  }
 ],
 "metadata": {
  "kernelspec": {
   "display_name": "venv",
   "language": "python",
   "name": "python3"
  },
  "language_info": {
   "codemirror_mode": {
    "name": "ipython",
    "version": 3
   },
   "file_extension": ".py",
   "mimetype": "text/x-python",
   "name": "python",
   "nbconvert_exporter": "python",
   "pygments_lexer": "ipython3",
   "version": "3.11.14"
  }
 },
 "nbformat": 4,
 "nbformat_minor": 5
}
