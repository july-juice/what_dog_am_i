{
 "cells": [
  {
   "cell_type": "code",
   "execution_count": null,
   "id": "891b8e7e",
   "metadata": {},
   "outputs": [],
   "source": [
    "# Demo Code to test what index works as the normal camera\n",
    "\n",
    "import cv2\n",
    "\n",
    "for i in range(5):\n",
    "    cam = cv2.VideoCapture(i)\n",
    "    if cam.isOpened():\n",
    "        print(f\"Camera index {i} works!\")\n",
    "        cam.release()\n",
    "    else:\n",
    "        print(f\"Camera index {i} don't work!\")\n"
   ]
  }
 ],
 "metadata": {
  "language_info": {
   "name": "python"
  }
 },
 "nbformat": 4,
 "nbformat_minor": 5
}
